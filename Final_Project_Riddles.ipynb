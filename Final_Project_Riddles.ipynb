{
  "cells": [
    {
      "cell_type": "markdown",
      "metadata": {
        "id": "view-in-github",
        "colab_type": "text"
      },
      "source": [
        "<a href=\"https://colab.research.google.com/github/KhadijaAlly/Riddles/blob/main/Final_Project_Riddles.ipynb\" target=\"_parent\"><img src=\"https://colab.research.google.com/assets/colab-badge.svg\" alt=\"Open In Colab\"/></a>"
      ]
    },
    {
      "cell_type": "code",
      "source": [
        "from IPython.core.display import HTML\n",
        "\n",
        "print(\"Let's See How Clever You Are\", \"\\U0001F61B\")\n",
        "\n",
        "import cv2\n",
        "from google.colab.patches import cv2_imshow\n",
        "img = cv2.imread(\"picture.jpg\")\n",
        "cv2_imshow(img)\n",
        "\n",
        "list1 = [\n",
        "    \"I'm tall when I'm young and I'm short when I'm old. What am I?\",\n",
        "    \"I'm an odd number, Take away a letter and I become even. What number am I?\",\n",
        "    \"What has to be broken before you can use it?\"\n",
        "]\n",
        "\n",
        "list2 = [\n",
        "    \"PENCIL\",\n",
        "    \"SEVEN\",\n",
        "    \"AN EGG\",\n",
        "]\n",
        "\n",
        "for i in range (0,3):\n",
        "  print(list1[i])\n",
        "  print(\"Type your guess, or type 'Help1', 'Help2', or ' I give up' below.\")\n",
        "  \n",
        "  guess = 0\n",
        "\n",
        "  while True:\n",
        "    answer = input().upper()\n",
        "    guess += 1\n",
        "\n",
        "    if list2[i] in answer:\n",
        "      print(\"You Win!\", \"\\U0001F600\")\n",
        "      print(\"It took you \" + str(guess) + \" guesses \")\n",
        "      break\n",
        "\n",
        "    elif answer.upper() == \"HELP1\":\n",
        "      if i==0:\n",
        "        print(\"I'm made from Tree\")\n",
        "      elif i==1:\n",
        "        print(\"I'm close to 8\")\n",
        "      else:\n",
        "        print(\"I'm white outside and yellow inside\")\n",
        "\n",
        "    elif answer.upper() == \"HELP2\":\n",
        "      if i==0:\n",
        "        print(\"I often have an Eraser\")\n",
        "      elif i==1:\n",
        "        print(\"I end with letter N\")\n",
        "      else:\n",
        "        print(\"I have a shell and I'm an oval shape\")\n",
        "\n",
        "    elif answer.upper() == \"I GIVE UP\":\n",
        "      if i==0:\n",
        "        print(\"The answer is Pencil!\")\n",
        "      elif i==1:\n",
        "        print(\"The answer is Seven\")\n",
        "      else:\n",
        "        print(\"The answer is An Egg\")\n",
        "      break\n",
        "    else:\n",
        "        print(\"Try Again\")\n",
        "\n",
        "HTML('<font color=green>!!!That Is The End of Our Riddle!!!</font>')"
      ],
      "metadata": {
        "id": "bq6NlswjiWBy"
      },
      "execution_count": null,
      "outputs": []
    }
  ],
  "metadata": {
    "colab": {
      "provenance": [],
      "include_colab_link": true
    },
    "kernelspec": {
      "display_name": "Python 3",
      "name": "python3"
    },
    "language_info": {
      "name": "python"
    }
  },
  "nbformat": 4,
  "nbformat_minor": 0
}