{
  "nbformat": 4,
  "nbformat_minor": 0,
  "metadata": {
    "colab": {
      "provenance": [],
      "authorship_tag": "ABX9TyO+1WIDgyL2cAfe+n8XWKJu",
      "include_colab_link": true
    },
    "kernelspec": {
      "name": "python3",
      "display_name": "Python 3"
    },
    "language_info": {
      "name": "python"
    }
  },
  "cells": [
    {
      "cell_type": "markdown",
      "metadata": {
        "id": "view-in-github",
        "colab_type": "text"
      },
      "source": [
        "<a href=\"https://colab.research.google.com/github/KhadijaAlly/Riddles/blob/main/Riddles.ipynb\" target=\"_parent\"><img src=\"https://colab.research.google.com/assets/colab-badge.svg\" alt=\"Open In Colab\"/></a>"
      ]
    },
    {
      "cell_type": "code",
      "execution_count": null,
      "metadata": {
        "colab": {
          "base_uri": "https://localhost:8080/"
        },
        "id": "cc6mPANZsZNY",
        "outputId": "4515a403-e511-4c10-bef2-a2888c9ddf3c"
      },
      "outputs": [
        {
          "metadata": {
            "tags": null
          },
          "name": "stdout",
          "output_type": "stream",
          "text": [
            "Let's See How Clever You Are 😛\n",
            "I’m tall when I’m young and I’m short when I’m old. What am I?\n",
            "Type your guess, or type 'Help1', Help2', or 'I give up' below.\n"
          ]
        }
      ],
      "source": [
        "from IPython.core.display import HTML\n",
        "\n",
        "print(\"Let's See How Clever You Are\", \"\\U0001F61B\")\n",
        "\n",
        "guess = 0\n",
        "\n",
        "while True:\n",
        "    print(\"I’m tall when I’m young and I’m short when I’m old. What am I?\")\n",
        "    print(\"Type your guess, or type 'Help1', Help2', or 'I give up' below.\")\n",
        "    answer = input()\n",
        "    guess += 1\n",
        "\n",
        "    if \"Pencil\" in answer:\n",
        "        print(\"You win!\", \"\\U0001F600\")\n",
        "        print(\"It took you \" + str(guess) + \" guesses.\")\n",
        "        break\n",
        "\n",
        "    elif answer == \"Help1\":\n",
        "        print(\"I'm made from Tree\")\n",
        "\n",
        "    elif answer == \"Help2\":\n",
        "        print(\"I often have an Eraser.\")\n",
        "\n",
        "    elif answer.upper() == \"I GIVE UP\":\n",
        "        print(\"The answer is Pencil!\")\n",
        "\n",
        "    else:\n",
        "        print(\"Try again!\")\n",
        "\n",
        "guess = 0\n",
        "\n",
        "while True:\n",
        "    print(\"I am an odd number, Take away a letter and I become even. What number am I?\")\n",
        "    print(\"Type your guess, or type 'Help1', Help2', or 'I give up' below.\")\n",
        "    answer = input()\n",
        "    guess += 1\n",
        "\n",
        "    if \"Seven\" in answer:\n",
        "        print(\"You win!\", \"\\U0001F600\")\n",
        "        print(\"It took you \" + str(guess) + \" guesses.\")\n",
        "        break\n",
        "\n",
        "    elif answer == \"Help1\":\n",
        "        print(\"I'm close to 8\")\n",
        "\n",
        "    elif answer == \"Help2\":\n",
        "        print(\"I end with letter N.\")\n",
        "\n",
        "    elif answer.upper() == \"I GIVE UP\":\n",
        "        print(\"The answer is Seven!\")\n",
        "        break\n",
        "\n",
        "    else:\n",
        "        print(\"Try again!\")\n",
        "\n",
        "\n",
        "HTML('<font color=green>!!!Thats The End of Our Riddle!!!</font>')"
      ]
    }
  ]
}