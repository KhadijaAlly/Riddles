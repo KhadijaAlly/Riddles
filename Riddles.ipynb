{
  "cells": [
    {
      "cell_type": "markdown",
      "metadata": {
        "id": "view-in-github",
        "colab_type": "text"
      },
      "source": [
        "<a href=\"https://colab.research.google.com/github/KhadijaAlly/Riddles/blob/main/Riddles.ipynb\" target=\"_parent\"><img src=\"https://colab.research.google.com/assets/colab-badge.svg\" alt=\"Open In Colab\"/></a>"
      ]
    },
    {
      "cell_type": "code",
      "execution_count": null,
      "metadata": {
        "id": "cc6mPANZsZNY"
      },
      "outputs": [],
      "source": [
        "from IPython.core.display import HTML\n",
        "\n",
        "print(\"Let's See How Clever You Are\", \"\\U0001F61B\")\n",
        "\n",
        "import cv2\n",
        "from google.colab.patches import cv2_imshow\n",
        "img = cv2.imread(\"picture.jpg\")\n",
        "cv2_imshow(img)\n",
        "\n",
        "guess = 0\n",
        "\n",
        "while True:\n",
        "    print(\"I’m tall when I’m young and I’m short when I’m old. What am I?\")\n",
        "    print(\"Type your guess, or type 'Help1', Help2', or 'I give up' below.\")\n",
        "    answer = input().upper()\n",
        "    guess += 1\n",
        "\n",
        "    if \"PENCIL\" in answer:\n",
        "        print(\"You win!\", \"\\U0001F600\")\n",
        "        print(\"It took you \" + str(guess) + \" guesses.\")\n",
        "        break\n",
        "\n",
        "    elif answer.upper() == \"HELP1\":\n",
        "        print(\"I'm made from Tree\")\n",
        "\n",
        "    elif answer.upper() == \"HELP2\":\n",
        "        print(\"I often have an Eraser.\")\n",
        "\n",
        "    elif answer.upper() == \"I GIVE UP\":\n",
        "        print(\"The answer is Pencil!\")\n",
        "\n",
        "    else:\n",
        "        print(\"Try again!\")\n",
        "\n",
        "guess = 0\n",
        "\n",
        "while True:\n",
        "    print(\"I am an odd number, Take away a letter and I become even. What number am I?\")\n",
        "    print(\"Type your guess, or type 'Help1', Help2', or 'I give up' below.\")\n",
        "    answer = input().upper()\n",
        "    guess += 1\n",
        "\n",
        "    if \"SEVEN\" in answer:\n",
        "        print(\"You win!\", \"\\U0001F600\")\n",
        "        print(\"It took you \" + str(guess) + \" guesses.\")\n",
        "        break\n",
        "\n",
        "    elif answer.upper() == \"HELP1\":\n",
        "        print(\"I'm close to 8\")\n",
        "\n",
        "    elif answer.upper() == \"HELP2\":\n",
        "        print(\"I end with letter N.\")\n",
        "\n",
        "    elif answer.upper() == \"I GIVE UP\":\n",
        "        print(\"The answer is Seven!\")\n",
        "        break\n",
        "\n",
        "    else:\n",
        "        print(\"Try again!\")\n",
        "\n",
        "\n",
        "HTML('<font color=green>!!!Thats The End of Our Riddle!!!</font>')"
      ]
    }
  ],
  "metadata": {
    "colab": {
      "provenance": [],
      "authorship_tag": "ABX9TyP7J6BF+FHCKvvclDVU2nZS",
      "include_colab_link": true
    },
    "kernelspec": {
      "display_name": "Python 3",
      "name": "python3"
    },
    "language_info": {
      "name": "python"
    }
  },
  "nbformat": 4,
  "nbformat_minor": 0
}